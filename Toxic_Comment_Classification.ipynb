{
  "nbformat": 4,
  "nbformat_minor": 0,
  "metadata": {
    "colab": {
      "name": "Toxic_Comment_Classification.ipynb",
      "version": "0.3.2",
      "provenance": [],
      "collapsed_sections": []
    },
    "kernelspec": {
      "name": "python3",
      "display_name": "Python 3"
    }
  },
  "cells": [
    {
      "cell_type": "code",
      "metadata": {
        "id": "kE0D1P4A2FLI",
        "colab_type": "code",
        "outputId": "81519ab7-1bbe-4e57-9995-c188074bd4d4",
        "colab": {
          "base_uri": "https://localhost:8080/",
          "height": 122
        }
      },
      "source": [
        "from google.colab import drive\n",
        "drive.mount('/content/drive')"
      ],
      "execution_count": 2,
      "outputs": [
        {
          "output_type": "stream",
          "text": [
            "Go to this URL in a browser: https://accounts.google.com/o/oauth2/auth?client_id=947318989803-6bn6qk8qdgf4n4g3pfee6491hc0brc4i.apps.googleusercontent.com&redirect_uri=urn%3Aietf%3Awg%3Aoauth%3A2.0%3Aoob&scope=email%20https%3A%2F%2Fwww.googleapis.com%2Fauth%2Fdocs.test%20https%3A%2F%2Fwww.googleapis.com%2Fauth%2Fdrive%20https%3A%2F%2Fwww.googleapis.com%2Fauth%2Fdrive.photos.readonly%20https%3A%2F%2Fwww.googleapis.com%2Fauth%2Fpeopleapi.readonly&response_type=code\n",
            "\n",
            "Enter your authorization code:\n",
            "··········\n",
            "Mounted at /content/drive\n"
          ],
          "name": "stdout"
        }
      ]
    },
    {
      "cell_type": "code",
      "metadata": {
        "id": "t4tSNJcp2RIW",
        "colab_type": "code",
        "colab": {}
      },
      "source": [
        "import zipfile\n",
        "zer=zipfile.ZipFile('drive/My Drive/project_data/jigsaw-toxic-comment-classification-challenge.zip','r')\n",
        "zer.extractall()\n",
        "zer.close()"
      ],
      "execution_count": 0,
      "outputs": []
    },
    {
      "cell_type": "code",
      "metadata": {
        "id": "wsY1JzS94qTm",
        "colab_type": "code",
        "colab": {}
      },
      "source": [
        "\n",
        "import pandas as pd\n",
        "train=pd.read_csv('train.csv')\n",
        "test=pd.read_csv('test.csv')\n"
      ],
      "execution_count": 0,
      "outputs": []
    },
    {
      "cell_type": "code",
      "metadata": {
        "id": "vWu1zoKR-UnZ",
        "colab_type": "code",
        "outputId": "2d220666-5ac5-425e-af42-1f4b39253363",
        "colab": {
          "base_uri": "https://localhost:8080/",
          "height": 170
        }
      },
      "source": [
        "train.isnull().sum()"
      ],
      "execution_count": 5,
      "outputs": [
        {
          "output_type": "execute_result",
          "data": {
            "text/plain": [
              "id               0\n",
              "comment_text     0\n",
              "toxic            0\n",
              "severe_toxic     0\n",
              "obscene          0\n",
              "threat           0\n",
              "insult           0\n",
              "identity_hate    0\n",
              "dtype: int64"
            ]
          },
          "metadata": {
            "tags": []
          },
          "execution_count": 5
        }
      ]
    },
    {
      "cell_type": "code",
      "metadata": {
        "id": "D3zMztzT-jde",
        "colab_type": "code",
        "outputId": "36895513-2bae-4712-fe92-4965037b7d56",
        "colab": {
          "base_uri": "https://localhost:8080/",
          "height": 1000
        }
      },
      "source": [
        "train['comment_text']"
      ],
      "execution_count": 78,
      "outputs": [
        {
          "output_type": "execute_result",
          "data": {
            "text/plain": [
              "0         Explanation\\nWhy the edits made under my usern...\n",
              "1         D'aww! He matches this background colour I'm s...\n",
              "2         Hey man, I'm really not trying to edit war. It...\n",
              "3         \"\\nMore\\nI can't make any real suggestions on ...\n",
              "4         You, sir, are my hero. Any chance you remember...\n",
              "5         \"\\n\\nCongratulations from me as well, use the ...\n",
              "6              COCKSUCKER BEFORE YOU PISS AROUND ON MY WORK\n",
              "7         Your vandalism to the Matt Shirvington article...\n",
              "8         Sorry if the word 'nonsense' was offensive to ...\n",
              "9         alignment on this subject and which are contra...\n",
              "10        \"\\nFair use rationale for Image:Wonju.jpg\\n\\nT...\n",
              "11        bbq \\n\\nbe a man and lets discuss it-maybe ove...\n",
              "12        Hey... what is it..\\n@ | talk .\\nWhat is it......\n",
              "13        Before you start throwing accusations and warn...\n",
              "14        Oh, and the girl above started her arguments w...\n",
              "15        \"\\n\\nJuelz Santanas Age\\n\\nIn 2002, Juelz Sant...\n",
              "16        Bye! \\n\\nDon't look, come or think of comming ...\n",
              "17         REDIRECT Talk:Voydan Pop Georgiev- Chernodrinski\n",
              "18        The Mitsurugi point made no sense - why not ar...\n",
              "19        Don't mean to bother you \\n\\nI see that you're...\n",
              "20        \"\\n\\n Regarding your recent edits \\n\\nOnce aga...\n",
              "21        \"\\nGood to know. About me, yeah, I'm studying ...\n",
              "22        \"\\n\\n Snowflakes are NOT always symmetrical! \\...\n",
              "23        \"\\n\\n The Signpost: 24 September 2012 \\n\\n Rea...\n",
              "24        \"\\n\\nRe-considering 1st paragraph edit?\\nI don...\n",
              "25        Radial symmetry \\n\\nSeveral now extinct lineag...\n",
              "26        There's no need to apologize. A Wikipedia arti...\n",
              "27        Yes, because the mother of the child in the ca...\n",
              "28        \"\\nOk. But it will take a bit of work but I ca...\n",
              "29        \"== A barnstar for you! ==\\n\\n  The Real Life ...\n",
              "                                ...                        \n",
              "159541    Your absurd edits \\n\\nYour absurd edits on gre...\n",
              "159542    maybe he's got better things to do than spend ...\n",
              "159543    scrap that, it does meet criteria and its gone...\n",
              "159544                                  You could do worse.\n",
              "159545    , 7 March 2011 (UTC)\\nAre you also User:Bmatts...\n",
              "159546    \"\\n\\nHey listen don't you ever!!!! Delete my e...\n",
              "159547                       Thank you very, very much.  ·✆\n",
              "159548                          Talkback: 15 September 2012\n",
              "159549                           2005 (UTC)\\n 06:35, 31 Mar\n",
              "159550    i agree/ on another note lil wayne is a talent...\n",
              "159551    While about half the references are from BYU-I...\n",
              "159552    Prague Spring \\n\\nI think that Prague Spring d...\n",
              "159553    I see this as having been merged; undoing one ...\n",
              "159554    and i'm going to keep posting the stuff u dele...\n",
              "159555    \"\\n\\nHow come when you download that MP3 it's ...\n",
              "159556    I'll be on IRC, too, if you have a more specif...\n",
              "159557    It is my opinion that that happens to be off-t...\n",
              "159558    Please stop removing content from Wikipedia; i...\n",
              "159559    Image:Barack-obama-mother.jpg listed for delet...\n",
              "159560    \"Editing of article without Consensus & Remova...\n",
              "159561    \"\\nNo he did not, read it again (I would have ...\n",
              "159562    \"\\n Auto guides and the motoring press are not...\n",
              "159563    \"\\nplease identify what part of BLP applies be...\n",
              "159564    Catalan independentism is the social movement ...\n",
              "159565    The numbers in parentheses are the additional ...\n",
              "159566    \":::::And for the second time of asking, when ...\n",
              "159567    You should be ashamed of yourself \\n\\nThat is ...\n",
              "159568    Spitzer \\n\\nUmm, theres no actual article for ...\n",
              "159569    And it looks like it was actually you who put ...\n",
              "159570    \"\\nAnd ... I really don't think you understand...\n",
              "Name: comment_text, Length: 159571, dtype: object"
            ]
          },
          "metadata": {
            "tags": []
          },
          "execution_count": 78
        }
      ]
    },
    {
      "cell_type": "code",
      "metadata": {
        "id": "62VdXTuG-wDb",
        "colab_type": "code",
        "colab": {}
      },
      "source": [
        "typelist=['toxic','severe_toxic','obscene','threat','insult','identity_hate']\n",
        "y=train[typelist].values\n"
      ],
      "execution_count": 0,
      "outputs": []
    },
    {
      "cell_type": "code",
      "metadata": {
        "id": "cvTur_bjStVJ",
        "colab_type": "code",
        "outputId": "5c27912a-30cb-454a-da66-2d027af24359",
        "colab": {
          "base_uri": "https://localhost:8080/",
          "height": 34
        }
      },
      "source": [
        "y.shape"
      ],
      "execution_count": 7,
      "outputs": [
        {
          "output_type": "execute_result",
          "data": {
            "text/plain": [
              "(159571, 6)"
            ]
          },
          "metadata": {
            "tags": []
          },
          "execution_count": 7
        }
      ]
    },
    {
      "cell_type": "code",
      "metadata": {
        "id": "0yitQtRITRRS",
        "colab_type": "code",
        "colab": {}
      },
      "source": [
        "import numpy as np"
      ],
      "execution_count": 0,
      "outputs": []
    },
    {
      "cell_type": "code",
      "metadata": {
        "id": "6oqIYx5NVYTF",
        "colab_type": "code",
        "colab": {}
      },
      "source": [
        "# z=pd.DataFrame()"
      ],
      "execution_count": 0,
      "outputs": []
    },
    {
      "cell_type": "code",
      "metadata": {
        "id": "rZo_CS27_9kI",
        "colab_type": "code",
        "colab": {}
      },
      "source": [
        "# a=np.reshape(y,(y.shape[0],))\n",
        "# y=np.reshape(y.shape[1],(y.shape[0], ))"
      ],
      "execution_count": 0,
      "outputs": []
    },
    {
      "cell_type": "code",
      "metadata": {
        "id": "f-cuRzjFSHXN",
        "colab_type": "code",
        "colab": {}
      },
      "source": [
        "# a.shape"
      ],
      "execution_count": 0,
      "outputs": []
    },
    {
      "cell_type": "code",
      "metadata": {
        "id": "A8q0HVrT___I",
        "colab_type": "code",
        "colab": {}
      },
      "source": [
        "comment_train=train['comment_text']\n",
        "comment_test=test['comment_text']"
      ],
      "execution_count": 0,
      "outputs": []
    },
    {
      "cell_type": "code",
      "metadata": {
        "id": "7ajlmyAGAr7J",
        "colab_type": "code",
        "colab": {
          "base_uri": "https://localhost:8080/",
          "height": 34
        },
        "outputId": "261e9164-b23b-453f-d1b9-aee5bc76bac9"
      },
      "source": [
        "from keras.preprocessing.text import Tokenizer\n",
        "from keras.preprocessing.sequence import pad_sequences"
      ],
      "execution_count": 10,
      "outputs": [
        {
          "output_type": "stream",
          "text": [
            "Using TensorFlow backend.\n"
          ],
          "name": "stderr"
        }
      ]
    },
    {
      "cell_type": "code",
      "metadata": {
        "id": "NiFTGX8TAMLu",
        "colab_type": "code",
        "colab": {}
      },
      "source": [
        "max_features=2000\n",
        "token=Tokenizer(num_words=max_features)\n",
        "token.fit_on_texts(list(comment_train))\n",
        "tknzed_list_train=token.texts_to_sequences(comment_train)\n",
        "tknzed_list_test=token.texts_to_sequences(comment_test)\n",
        "\n"
      ],
      "execution_count": 0,
      "outputs": []
    },
    {
      "cell_type": "code",
      "metadata": {
        "id": "BdFCFZRGCGJs",
        "colab_type": "code",
        "outputId": "322ec833-abe4-4917-c16b-53a3286d517d",
        "colab": {
          "base_uri": "https://localhost:8080/",
          "height": 595
        }
      },
      "source": [
        "tknzed_list_train[:1]"
      ],
      "execution_count": 12,
      "outputs": [
        {
          "output_type": "execute_result",
          "data": {
            "text/plain": [
              "[[688,\n",
              "  75,\n",
              "  1,\n",
              "  126,\n",
              "  130,\n",
              "  177,\n",
              "  29,\n",
              "  672,\n",
              "  1116,\n",
              "  86,\n",
              "  331,\n",
              "  51,\n",
              "  50,\n",
              "  15,\n",
              "  60,\n",
              "  148,\n",
              "  7,\n",
              "  34,\n",
              "  117,\n",
              "  1221,\n",
              "  4,\n",
              "  45,\n",
              "  59,\n",
              "  244,\n",
              "  1,\n",
              "  365,\n",
              "  31,\n",
              "  1,\n",
              "  38,\n",
              "  27,\n",
              "  143,\n",
              "  73,\n",
              "  89,\n",
              "  985]]"
            ]
          },
          "metadata": {
            "tags": []
          },
          "execution_count": 12
        }
      ]
    },
    {
      "cell_type": "code",
      "metadata": {
        "id": "_VdvIiXxCZof",
        "colab_type": "code",
        "colab": {}
      },
      "source": [
        "maxlen=200\n",
        "X_tr=pad_sequences(tknzed_list_train,maxlen=maxlen)\n",
        "X_te=pad_sequences(tknzed_list_test,maxlen=maxlen)"
      ],
      "execution_count": 0,
      "outputs": []
    },
    {
      "cell_type": "code",
      "metadata": {
        "id": "HlWMEoaYJn24",
        "colab_type": "code",
        "colab": {}
      },
      "source": [
        "from keras.layers import Dense, Input, LSTM, Embedding, Dropout, Activation\n",
        "from keras.models import Sequential"
      ],
      "execution_count": 0,
      "outputs": []
    },
    {
      "cell_type": "code",
      "metadata": {
        "id": "TMbMEjGZIp-u",
        "colab_type": "code",
        "colab": {}
      },
      "source": [
        "model=Sequential()\n",
        "model.add(Embedding(max_features, 128,input_length=200))\n",
        "model.add(LSTM(60,name='lstm_layer'))\n",
        "# model.add(Dense(50,activation='relu'))\n",
        "model.add(Dense(6,activation='sigmoid'))\n"
      ],
      "execution_count": 0,
      "outputs": []
    },
    {
      "cell_type": "code",
      "metadata": {
        "id": "k4rliPp5P5UF",
        "colab_type": "code",
        "outputId": "72099f05-04d7-4680-8e58-4b9c9200517f",
        "colab": {
          "base_uri": "https://localhost:8080/",
          "height": 238
        }
      },
      "source": [
        "model.summary()"
      ],
      "execution_count": 17,
      "outputs": [
        {
          "output_type": "stream",
          "text": [
            "_________________________________________________________________\n",
            "Layer (type)                 Output Shape              Param #   \n",
            "=================================================================\n",
            "embedding_2 (Embedding)      (None, 200, 128)          256000    \n",
            "_________________________________________________________________\n",
            "lstm_layer (LSTM)            (None, 60)                45360     \n",
            "_________________________________________________________________\n",
            "dense_2 (Dense)              (None, 6)                 366       \n",
            "=================================================================\n",
            "Total params: 301,726\n",
            "Trainable params: 301,726\n",
            "Non-trainable params: 0\n",
            "_________________________________________________________________\n"
          ],
          "name": "stdout"
        }
      ]
    },
    {
      "cell_type": "code",
      "metadata": {
        "id": "c0z5I7O1MLrT",
        "colab_type": "code",
        "colab": {
          "base_uri": "https://localhost:8080/",
          "height": 156
        },
        "outputId": "dbf199a3-9a9d-4201-c7ba-db5811b0d1f4"
      },
      "source": [
        "model.compile(loss='binary_crossentropy',optimizer='adam',metrics=['accuracy'])"
      ],
      "execution_count": 18,
      "outputs": [
        {
          "output_type": "stream",
          "text": [
            "W0723 16:50:04.586927 139760546150272 deprecation_wrapper.py:119] From /usr/local/lib/python3.6/dist-packages/keras/optimizers.py:790: The name tf.train.Optimizer is deprecated. Please use tf.compat.v1.train.Optimizer instead.\n",
            "\n",
            "W0723 16:50:04.620614 139760546150272 deprecation_wrapper.py:119] From /usr/local/lib/python3.6/dist-packages/keras/backend/tensorflow_backend.py:3376: The name tf.log is deprecated. Please use tf.math.log instead.\n",
            "\n",
            "W0723 16:50:04.627895 139760546150272 deprecation.py:323] From /usr/local/lib/python3.6/dist-packages/tensorflow/python/ops/nn_impl.py:180: add_dispatch_support.<locals>.wrapper (from tensorflow.python.ops.array_ops) is deprecated and will be removed in a future version.\n",
            "Instructions for updating:\n",
            "Use tf.where in 2.0, which has the same broadcast rule as np.where\n"
          ],
          "name": "stderr"
        }
      ]
    },
    {
      "cell_type": "markdown",
      "metadata": {
        "id": "dwkhoA6XNaKc",
        "colab_type": "text"
      },
      "source": [
        ""
      ]
    },
    {
      "cell_type": "code",
      "metadata": {
        "id": "kJ3MgdvqMsbA",
        "colab_type": "code",
        "colab": {}
      },
      "source": [
        "from sklearn.model_selection import train_test_split"
      ],
      "execution_count": 0,
      "outputs": []
    },
    {
      "cell_type": "code",
      "metadata": {
        "id": "7qRkCRV2V81F",
        "colab_type": "code",
        "colab": {}
      },
      "source": [
        "# z.shape"
      ],
      "execution_count": 0,
      "outputs": []
    },
    {
      "cell_type": "code",
      "metadata": {
        "id": "hlb15_dXMxTj",
        "colab_type": "code",
        "colab": {}
      },
      "source": [
        "X_train,X_val,y_train,y_val=train_test_split(X_tr,y,test_size=0.20)\n",
        "X_val,X_test,y_val,y_test=train_test_split(X_train,y_train,test_size=0.20)"
      ],
      "execution_count": 0,
      "outputs": []
    },
    {
      "cell_type": "code",
      "metadata": {
        "id": "DTjqFjlLNpim",
        "colab_type": "code",
        "outputId": "84da8171-2bab-4bfc-b9c2-c4dcb23c6a1f",
        "colab": {
          "base_uri": "https://localhost:8080/",
          "height": 34
        }
      },
      "source": [
        "y_train.shape"
      ],
      "execution_count": 22,
      "outputs": [
        {
          "output_type": "execute_result",
          "data": {
            "text/plain": [
              "(127656, 6)"
            ]
          },
          "metadata": {
            "tags": []
          },
          "execution_count": 22
        }
      ]
    },
    {
      "cell_type": "code",
      "metadata": {
        "id": "8Pf8hwaSMcoQ",
        "colab_type": "code",
        "outputId": "a11c3560-542c-4406-b4b0-4a2e17b95aa4",
        "colab": {
          "base_uri": "https://localhost:8080/",
          "height": 275
        }
      },
      "source": [
        "batch_size = 32\n",
        "epochs = 5\n",
        "model.fit(X_train,y_train, batch_size=batch_size, epochs=epochs,validation_data=(X_val,y_val))"
      ],
      "execution_count": 23,
      "outputs": [
        {
          "output_type": "stream",
          "text": [
            "W0723 16:50:33.430970 139760546150272 deprecation_wrapper.py:119] From /usr/local/lib/python3.6/dist-packages/keras/backend/tensorflow_backend.py:986: The name tf.assign_add is deprecated. Please use tf.compat.v1.assign_add instead.\n",
            "\n"
          ],
          "name": "stderr"
        },
        {
          "output_type": "stream",
          "text": [
            "Train on 127656 samples, validate on 102124 samples\n",
            "Epoch 1/5\n",
            "127656/127656 [==============================] - 892s 7ms/step - loss: 0.0733 - acc: 0.9771 - val_loss: 0.0541 - val_acc: 0.9813\n",
            "Epoch 2/5\n",
            "127656/127656 [==============================] - 889s 7ms/step - loss: 0.0549 - acc: 0.9810 - val_loss: 0.0511 - val_acc: 0.9820\n",
            "Epoch 3/5\n",
            "127656/127656 [==============================] - 883s 7ms/step - loss: 0.0514 - acc: 0.9818 - val_loss: 0.0491 - val_acc: 0.9827\n",
            "Epoch 4/5\n",
            "127656/127656 [==============================] - 883s 7ms/step - loss: 0.0486 - acc: 0.9825 - val_loss: 0.0447 - val_acc: 0.9838\n",
            "Epoch 5/5\n",
            "127656/127656 [==============================] - 880s 7ms/step - loss: 0.0462 - acc: 0.9832 - val_loss: 0.0428 - val_acc: 0.9845\n"
          ],
          "name": "stdout"
        },
        {
          "output_type": "execute_result",
          "data": {
            "text/plain": [
              "<keras.callbacks.History at 0x7f1c39b7e0b8>"
            ]
          },
          "metadata": {
            "tags": []
          },
          "execution_count": 23
        }
      ]
    },
    {
      "cell_type": "code",
      "metadata": {
        "id": "IHyfW6ndf1F9",
        "colab_type": "code",
        "colab": {}
      },
      "source": [
        " model.save_weights('model_lstm_new.h5')"
      ],
      "execution_count": 0,
      "outputs": []
    },
    {
      "cell_type": "code",
      "metadata": {
        "id": "FVAq8N4-f_tX",
        "colab_type": "code",
        "outputId": "89bd6ee5-27a8-480f-d605-a884eeff3f08",
        "colab": {
          "base_uri": "https://localhost:8080/",
          "height": 238
        }
      },
      "source": [
        "y_pred=model.predict(X_te)\n",
        "y_pred"
      ],
      "execution_count": 25,
      "outputs": [
        {
          "output_type": "execute_result",
          "data": {
            "text/plain": [
              "array([[9.9124318e-01, 4.0655220e-01, 9.5696998e-01, 7.0134938e-02,\n",
              "        9.3951976e-01, 3.8276771e-01],\n",
              "       [1.9385219e-03, 2.1815300e-05, 6.1810017e-04, 3.9041042e-06,\n",
              "        5.6552887e-04, 5.4657459e-05],\n",
              "       [2.0900071e-03, 1.9937754e-05, 1.0787547e-03, 6.3180923e-06,\n",
              "        5.5181980e-04, 5.5164099e-05],\n",
              "       ...,\n",
              "       [2.8151572e-03, 6.6846609e-05, 8.6560845e-04, 1.2874603e-05,\n",
              "        6.9469213e-04, 8.1986189e-05],\n",
              "       [3.4939349e-03, 6.6161156e-06, 7.3039532e-04, 6.7055225e-06,\n",
              "        6.9722533e-04, 1.0225177e-04],\n",
              "       [9.6503806e-01, 3.3247977e-02, 8.9810532e-01, 4.0396750e-03,\n",
              "        5.8306980e-01, 9.4263256e-03]], dtype=float32)"
            ]
          },
          "metadata": {
            "tags": []
          },
          "execution_count": 25
        }
      ]
    },
    {
      "cell_type": "code",
      "metadata": {
        "id": "kz66_MT6kEh5",
        "colab_type": "code",
        "outputId": "e028afa9-50a1-425c-83b1-9405ca561721",
        "colab": {
          "base_uri": "https://localhost:8080/",
          "height": 69
        }
      },
      "source": [
        "train.columns"
      ],
      "execution_count": 0,
      "outputs": [
        {
          "output_type": "execute_result",
          "data": {
            "text/plain": [
              "Index(['id', 'comment_text', 'toxic', 'severe_toxic', 'obscene', 'threat',\n",
              "       'insult', 'identity_hate'],\n",
              "      dtype='object')"
            ]
          },
          "metadata": {
            "tags": []
          },
          "execution_count": 176
        }
      ]
    },
    {
      "cell_type": "code",
      "metadata": {
        "id": "uwbeW7i1kyPx",
        "colab_type": "code",
        "outputId": "d70087cd-5a67-4cbd-b561-9b5398541e3a",
        "colab": {
          "base_uri": "https://localhost:8080/",
          "height": 52
        }
      },
      "source": [
        "y_pred[:,3]"
      ],
      "execution_count": 0,
      "outputs": [
        {
          "output_type": "execute_result",
          "data": {
            "text/plain": [
              "array([0.02168856, 0.16523504, 0.15973532, ..., 0.16859703, 0.15969728,\n",
              "       0.00255476], dtype=float32)"
            ]
          },
          "metadata": {
            "tags": []
          },
          "execution_count": 182
        }
      ]
    },
    {
      "cell_type": "code",
      "metadata": {
        "id": "KtzuHRU-iDGk",
        "colab_type": "code",
        "colab": {}
      },
      "source": [
        "submission = pd.DataFrame()\n",
        "submission['id']=test['id']\n",
        "submission['toxic']=y_pred[:,0]\n",
        "submission['severe_toxic']=y_pred[:,1]\n",
        "submission['obscene']=y_pred[:,2]\n",
        "submission['threat']=y_pred[:,3]\n",
        "submission['insult']=y_pred[:,4]\n",
        "submission['identity_hate']=y_pred[:,5]\n",
        "\n",
        "\n"
      ],
      "execution_count": 0,
      "outputs": []
    },
    {
      "cell_type": "code",
      "metadata": {
        "id": "RoGqhmVyisy4",
        "colab_type": "code",
        "outputId": "cb0e43ca-e3d0-4f36-b05e-5b1854584d7e",
        "colab": {
          "base_uri": "https://localhost:8080/",
          "height": 222
        }
      },
      "source": [
        "submission.head()"
      ],
      "execution_count": 0,
      "outputs": [
        {
          "output_type": "execute_result",
          "data": {
            "text/html": [
              "<div>\n",
              "<style scoped>\n",
              "    .dataframe tbody tr th:only-of-type {\n",
              "        vertical-align: middle;\n",
              "    }\n",
              "\n",
              "    .dataframe tbody tr th {\n",
              "        vertical-align: top;\n",
              "    }\n",
              "\n",
              "    .dataframe thead th {\n",
              "        text-align: right;\n",
              "    }\n",
              "</style>\n",
              "<table border=\"1\" class=\"dataframe\">\n",
              "  <thead>\n",
              "    <tr style=\"text-align: right;\">\n",
              "      <th></th>\n",
              "      <th>id</th>\n",
              "      <th>toxic</th>\n",
              "      <th>severe_toxic</th>\n",
              "      <th>obscene</th>\n",
              "      <th>threat</th>\n",
              "      <th>insult</th>\n",
              "      <th>identity_hate</th>\n",
              "    </tr>\n",
              "  </thead>\n",
              "  <tbody>\n",
              "    <tr>\n",
              "      <th>0</th>\n",
              "      <td>00001cee341fdb12</td>\n",
              "      <td>0.282768</td>\n",
              "      <td>0.145864</td>\n",
              "      <td>0.264446</td>\n",
              "      <td>0.021689</td>\n",
              "      <td>0.228303</td>\n",
              "      <td>0.056931</td>\n",
              "    </tr>\n",
              "    <tr>\n",
              "      <th>1</th>\n",
              "      <td>0000247867823ef7</td>\n",
              "      <td>0.182717</td>\n",
              "      <td>0.160696</td>\n",
              "      <td>0.168888</td>\n",
              "      <td>0.165235</td>\n",
              "      <td>0.166774</td>\n",
              "      <td>0.155690</td>\n",
              "    </tr>\n",
              "    <tr>\n",
              "      <th>2</th>\n",
              "      <td>00013b17ad220c46</td>\n",
              "      <td>0.169883</td>\n",
              "      <td>0.169807</td>\n",
              "      <td>0.169079</td>\n",
              "      <td>0.159735</td>\n",
              "      <td>0.165808</td>\n",
              "      <td>0.165688</td>\n",
              "    </tr>\n",
              "    <tr>\n",
              "      <th>3</th>\n",
              "      <td>00017563c3f7919a</td>\n",
              "      <td>0.182310</td>\n",
              "      <td>0.157817</td>\n",
              "      <td>0.167430</td>\n",
              "      <td>0.169402</td>\n",
              "      <td>0.169980</td>\n",
              "      <td>0.153060</td>\n",
              "    </tr>\n",
              "    <tr>\n",
              "      <th>4</th>\n",
              "      <td>00017695ad8997eb</td>\n",
              "      <td>0.267507</td>\n",
              "      <td>0.123281</td>\n",
              "      <td>0.187595</td>\n",
              "      <td>0.127212</td>\n",
              "      <td>0.155576</td>\n",
              "      <td>0.138828</td>\n",
              "    </tr>\n",
              "  </tbody>\n",
              "</table>\n",
              "</div>"
            ],
            "text/plain": [
              "                 id     toxic  severe_toxic  ...    threat    insult  identity_hate\n",
              "0  00001cee341fdb12  0.282768      0.145864  ...  0.021689  0.228303       0.056931\n",
              "1  0000247867823ef7  0.182717      0.160696  ...  0.165235  0.166774       0.155690\n",
              "2  00013b17ad220c46  0.169883      0.169807  ...  0.159735  0.165808       0.165688\n",
              "3  00017563c3f7919a  0.182310      0.157817  ...  0.169402  0.169980       0.153060\n",
              "4  00017695ad8997eb  0.267507      0.123281  ...  0.127212  0.155576       0.138828\n",
              "\n",
              "[5 rows x 7 columns]"
            ]
          },
          "metadata": {
            "tags": []
          },
          "execution_count": 184
        }
      ]
    },
    {
      "cell_type": "code",
      "metadata": {
        "id": "vfTORx0ejtFW",
        "colab_type": "code",
        "colab": {}
      },
      "source": [
        "submission.to_csv('submit_lstm2.csv', index=False)"
      ],
      "execution_count": 0,
      "outputs": []
    },
    {
      "cell_type": "code",
      "metadata": {
        "id": "Xt3ZHtkfE0A6",
        "colab_type": "code",
        "colab": {}
      },
      "source": [
        ""
      ],
      "execution_count": 0,
      "outputs": []
    },
    {
      "cell_type": "code",
      "metadata": {
        "id": "rCP5U4EWCTi9",
        "colab_type": "code",
        "colab": {}
      },
      "source": [
        ""
      ],
      "execution_count": 0,
      "outputs": []
    },
    {
      "cell_type": "code",
      "metadata": {
        "id": "MLF3KGBhIBuO",
        "colab_type": "code",
        "colab": {}
      },
      "source": [
        ""
      ],
      "execution_count": 0,
      "outputs": []
    },
    {
      "cell_type": "code",
      "metadata": {
        "id": "f6BbREm2Eluk",
        "colab_type": "code",
        "colab": {}
      },
      "source": [
        ""
      ],
      "execution_count": 0,
      "outputs": []
    },
    {
      "cell_type": "code",
      "metadata": {
        "id": "Vjy6S5xLIHd6",
        "colab_type": "code",
        "colab": {}
      },
      "source": [
        ""
      ],
      "execution_count": 0,
      "outputs": []
    },
    {
      "cell_type": "code",
      "metadata": {
        "id": "I6L2frpVDsDL",
        "colab_type": "code",
        "colab": {}
      },
      "source": [
        ""
      ],
      "execution_count": 0,
      "outputs": []
    }
  ]
}
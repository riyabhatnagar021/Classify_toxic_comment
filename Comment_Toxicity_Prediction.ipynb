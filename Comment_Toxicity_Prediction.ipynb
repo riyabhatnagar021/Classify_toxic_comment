{
  "nbformat": 4,
  "nbformat_minor": 0,
  "metadata": {
    "colab": {
      "name": "Comment_Toxicity_Prediction.ipynb",
      "version": "0.3.2",
      "provenance": [],
      "collapsed_sections": [],
      "include_colab_link": true
    },
    "kernelspec": {
      "name": "python3",
      "display_name": "Python 3"
    },
    "accelerator": "GPU"
  },
  "cells": [
    {
      "cell_type": "markdown",
      "metadata": {
        "id": "view-in-github",
        "colab_type": "text"
      },
      "source": [
        "<a href=\"https://colab.research.google.com/github/riyabhatnagar021/Classify_toxic_comment/blob/master/Comment_Toxicity_Prediction.ipynb\" target=\"_parent\"><img src=\"https://colab.research.google.com/assets/colab-badge.svg\" alt=\"Open In Colab\"/></a>"
      ]
    },
    {
      "cell_type": "markdown",
      "metadata": {
        "id": "20-8X1Q2yZoD",
        "colab_type": "text"
      },
      "source": [
        "# Load Data"
      ]
    },
    {
      "cell_type": "code",
      "metadata": {
        "id": "dfLyW2T74HvS",
        "colab_type": "code",
        "outputId": "d1ec4a6e-b389-48a6-af13-bf7ed3bf338a",
        "colab": {
          "base_uri": "https://localhost:8080/",
          "height": 121
        }
      },
      "source": [
        "from google.colab import drive\n",
        "drive.mount('/content/drive')"
      ],
      "execution_count": 0,
      "outputs": [
        {
          "output_type": "stream",
          "text": [
            "Go to this URL in a browser: https://accounts.google.com/o/oauth2/auth?client_id=947318989803-6bn6qk8qdgf4n4g3pfee6491hc0brc4i.apps.googleusercontent.com&redirect_uri=urn%3Aietf%3Awg%3Aoauth%3A2.0%3Aoob&scope=email%20https%3A%2F%2Fwww.googleapis.com%2Fauth%2Fdocs.test%20https%3A%2F%2Fwww.googleapis.com%2Fauth%2Fdrive%20https%3A%2F%2Fwww.googleapis.com%2Fauth%2Fdrive.photos.readonly%20https%3A%2F%2Fwww.googleapis.com%2Fauth%2Fpeopleapi.readonly&response_type=code\n",
            "\n",
            "Enter your authorization code:\n",
            "··········\n",
            "Mounted at /content/drive\n"
          ],
          "name": "stdout"
        }
      ]
    },
    {
      "cell_type": "code",
      "metadata": {
        "id": "ie2QGFAz4IVf",
        "colab_type": "code",
        "colab": {}
      },
      "source": [
        "import zipfile\n",
        "fil=zipfile.ZipFile('drive/My Drive/LSTM/jigsaw-toxic-comment-classification-challenge.zip','r')\n",
        "fil.extractall()\n",
        "fil.close()"
      ],
      "execution_count": 0,
      "outputs": []
    },
    {
      "cell_type": "code",
      "metadata": {
        "id": "zVBcg-rs-k6w",
        "colab_type": "code",
        "outputId": "bbf0fa58-b7e0-4626-bd59-7ebe3c1fcff1",
        "colab": {
          "base_uri": "https://localhost:8080/",
          "height": 34
        }
      },
      "source": [
        "import pandas as pd\n",
        "import numpy as np\n",
        "from keras.preprocessing.text import Tokenizer\n",
        "from keras.preprocessing.sequence import pad_sequences\n"
      ],
      "execution_count": 0,
      "outputs": [
        {
          "output_type": "stream",
          "text": [
            "Using TensorFlow backend.\n"
          ],
          "name": "stderr"
        }
      ]
    },
    {
      "cell_type": "code",
      "metadata": {
        "id": "4rxBSi6c4Y50",
        "colab_type": "code",
        "colab": {}
      },
      "source": [
        "train=pd.read_csv('train.csv')\n",
        "test=pd.read_csv('test.csv')\n"
      ],
      "execution_count": 0,
      "outputs": []
    },
    {
      "cell_type": "code",
      "metadata": {
        "id": "Rp2X0Mel-1KD",
        "colab_type": "code",
        "outputId": "74186390-a1e2-4b04-e27b-5bb762f7598f",
        "colab": {
          "base_uri": "https://localhost:8080/",
          "height": 1000
        }
      },
      "source": [
        "train\n"
      ],
      "execution_count": 0,
      "outputs": [
        {
          "output_type": "execute_result",
          "data": {
            "text/html": [
              "<div>\n",
              "<style scoped>\n",
              "    .dataframe tbody tr th:only-of-type {\n",
              "        vertical-align: middle;\n",
              "    }\n",
              "\n",
              "    .dataframe tbody tr th {\n",
              "        vertical-align: top;\n",
              "    }\n",
              "\n",
              "    .dataframe thead th {\n",
              "        text-align: right;\n",
              "    }\n",
              "</style>\n",
              "<table border=\"1\" class=\"dataframe\">\n",
              "  <thead>\n",
              "    <tr style=\"text-align: right;\">\n",
              "      <th></th>\n",
              "      <th>id</th>\n",
              "      <th>comment_text</th>\n",
              "      <th>toxic</th>\n",
              "      <th>severe_toxic</th>\n",
              "      <th>obscene</th>\n",
              "      <th>threat</th>\n",
              "      <th>insult</th>\n",
              "      <th>identity_hate</th>\n",
              "    </tr>\n",
              "  </thead>\n",
              "  <tbody>\n",
              "    <tr>\n",
              "      <th>0</th>\n",
              "      <td>0000997932d777bf</td>\n",
              "      <td>Explanation\\nWhy the edits made under my usern...</td>\n",
              "      <td>0</td>\n",
              "      <td>0</td>\n",
              "      <td>0</td>\n",
              "      <td>0</td>\n",
              "      <td>0</td>\n",
              "      <td>0</td>\n",
              "    </tr>\n",
              "    <tr>\n",
              "      <th>1</th>\n",
              "      <td>000103f0d9cfb60f</td>\n",
              "      <td>D'aww! He matches this background colour I'm s...</td>\n",
              "      <td>0</td>\n",
              "      <td>0</td>\n",
              "      <td>0</td>\n",
              "      <td>0</td>\n",
              "      <td>0</td>\n",
              "      <td>0</td>\n",
              "    </tr>\n",
              "    <tr>\n",
              "      <th>2</th>\n",
              "      <td>000113f07ec002fd</td>\n",
              "      <td>Hey man, I'm really not trying to edit war. It...</td>\n",
              "      <td>0</td>\n",
              "      <td>0</td>\n",
              "      <td>0</td>\n",
              "      <td>0</td>\n",
              "      <td>0</td>\n",
              "      <td>0</td>\n",
              "    </tr>\n",
              "    <tr>\n",
              "      <th>3</th>\n",
              "      <td>0001b41b1c6bb37e</td>\n",
              "      <td>\"\\nMore\\nI can't make any real suggestions on ...</td>\n",
              "      <td>0</td>\n",
              "      <td>0</td>\n",
              "      <td>0</td>\n",
              "      <td>0</td>\n",
              "      <td>0</td>\n",
              "      <td>0</td>\n",
              "    </tr>\n",
              "    <tr>\n",
              "      <th>4</th>\n",
              "      <td>0001d958c54c6e35</td>\n",
              "      <td>You, sir, are my hero. Any chance you remember...</td>\n",
              "      <td>0</td>\n",
              "      <td>0</td>\n",
              "      <td>0</td>\n",
              "      <td>0</td>\n",
              "      <td>0</td>\n",
              "      <td>0</td>\n",
              "    </tr>\n",
              "    <tr>\n",
              "      <th>5</th>\n",
              "      <td>00025465d4725e87</td>\n",
              "      <td>\"\\n\\nCongratulations from me as well, use the ...</td>\n",
              "      <td>0</td>\n",
              "      <td>0</td>\n",
              "      <td>0</td>\n",
              "      <td>0</td>\n",
              "      <td>0</td>\n",
              "      <td>0</td>\n",
              "    </tr>\n",
              "    <tr>\n",
              "      <th>6</th>\n",
              "      <td>0002bcb3da6cb337</td>\n",
              "      <td>COCKSUCKER BEFORE YOU PISS AROUND ON MY WORK</td>\n",
              "      <td>1</td>\n",
              "      <td>1</td>\n",
              "      <td>1</td>\n",
              "      <td>0</td>\n",
              "      <td>1</td>\n",
              "      <td>0</td>\n",
              "    </tr>\n",
              "    <tr>\n",
              "      <th>7</th>\n",
              "      <td>00031b1e95af7921</td>\n",
              "      <td>Your vandalism to the Matt Shirvington article...</td>\n",
              "      <td>0</td>\n",
              "      <td>0</td>\n",
              "      <td>0</td>\n",
              "      <td>0</td>\n",
              "      <td>0</td>\n",
              "      <td>0</td>\n",
              "    </tr>\n",
              "    <tr>\n",
              "      <th>8</th>\n",
              "      <td>00037261f536c51d</td>\n",
              "      <td>Sorry if the word 'nonsense' was offensive to ...</td>\n",
              "      <td>0</td>\n",
              "      <td>0</td>\n",
              "      <td>0</td>\n",
              "      <td>0</td>\n",
              "      <td>0</td>\n",
              "      <td>0</td>\n",
              "    </tr>\n",
              "    <tr>\n",
              "      <th>9</th>\n",
              "      <td>00040093b2687caa</td>\n",
              "      <td>alignment on this subject and which are contra...</td>\n",
              "      <td>0</td>\n",
              "      <td>0</td>\n",
              "      <td>0</td>\n",
              "      <td>0</td>\n",
              "      <td>0</td>\n",
              "      <td>0</td>\n",
              "    </tr>\n",
              "    <tr>\n",
              "      <th>10</th>\n",
              "      <td>0005300084f90edc</td>\n",
              "      <td>\"\\nFair use rationale for Image:Wonju.jpg\\n\\nT...</td>\n",
              "      <td>0</td>\n",
              "      <td>0</td>\n",
              "      <td>0</td>\n",
              "      <td>0</td>\n",
              "      <td>0</td>\n",
              "      <td>0</td>\n",
              "    </tr>\n",
              "    <tr>\n",
              "      <th>11</th>\n",
              "      <td>00054a5e18b50dd4</td>\n",
              "      <td>bbq \\n\\nbe a man and lets discuss it-maybe ove...</td>\n",
              "      <td>0</td>\n",
              "      <td>0</td>\n",
              "      <td>0</td>\n",
              "      <td>0</td>\n",
              "      <td>0</td>\n",
              "      <td>0</td>\n",
              "    </tr>\n",
              "    <tr>\n",
              "      <th>12</th>\n",
              "      <td>0005c987bdfc9d4b</td>\n",
              "      <td>Hey... what is it..\\n@ | talk .\\nWhat is it......</td>\n",
              "      <td>1</td>\n",
              "      <td>0</td>\n",
              "      <td>0</td>\n",
              "      <td>0</td>\n",
              "      <td>0</td>\n",
              "      <td>0</td>\n",
              "    </tr>\n",
              "    <tr>\n",
              "      <th>13</th>\n",
              "      <td>0006f16e4e9f292e</td>\n",
              "      <td>Before you start throwing accusations and warn...</td>\n",
              "      <td>0</td>\n",
              "      <td>0</td>\n",
              "      <td>0</td>\n",
              "      <td>0</td>\n",
              "      <td>0</td>\n",
              "      <td>0</td>\n",
              "    </tr>\n",
              "    <tr>\n",
              "      <th>14</th>\n",
              "      <td>00070ef96486d6f9</td>\n",
              "      <td>Oh, and the girl above started her arguments w...</td>\n",
              "      <td>0</td>\n",
              "      <td>0</td>\n",
              "      <td>0</td>\n",
              "      <td>0</td>\n",
              "      <td>0</td>\n",
              "      <td>0</td>\n",
              "    </tr>\n",
              "    <tr>\n",
              "      <th>15</th>\n",
              "      <td>00078f8ce7eb276d</td>\n",
              "      <td>\"\\n\\nJuelz Santanas Age\\n\\nIn 2002, Juelz Sant...</td>\n",
              "      <td>0</td>\n",
              "      <td>0</td>\n",
              "      <td>0</td>\n",
              "      <td>0</td>\n",
              "      <td>0</td>\n",
              "      <td>0</td>\n",
              "    </tr>\n",
              "    <tr>\n",
              "      <th>16</th>\n",
              "      <td>0007e25b2121310b</td>\n",
              "      <td>Bye! \\n\\nDon't look, come or think of comming ...</td>\n",
              "      <td>1</td>\n",
              "      <td>0</td>\n",
              "      <td>0</td>\n",
              "      <td>0</td>\n",
              "      <td>0</td>\n",
              "      <td>0</td>\n",
              "    </tr>\n",
              "    <tr>\n",
              "      <th>17</th>\n",
              "      <td>000897889268bc93</td>\n",
              "      <td>REDIRECT Talk:Voydan Pop Georgiev- Chernodrinski</td>\n",
              "      <td>0</td>\n",
              "      <td>0</td>\n",
              "      <td>0</td>\n",
              "      <td>0</td>\n",
              "      <td>0</td>\n",
              "      <td>0</td>\n",
              "    </tr>\n",
              "    <tr>\n",
              "      <th>18</th>\n",
              "      <td>0009801bd85e5806</td>\n",
              "      <td>The Mitsurugi point made no sense - why not ar...</td>\n",
              "      <td>0</td>\n",
              "      <td>0</td>\n",
              "      <td>0</td>\n",
              "      <td>0</td>\n",
              "      <td>0</td>\n",
              "      <td>0</td>\n",
              "    </tr>\n",
              "    <tr>\n",
              "      <th>19</th>\n",
              "      <td>0009eaea3325de8c</td>\n",
              "      <td>Don't mean to bother you \\n\\nI see that you're...</td>\n",
              "      <td>0</td>\n",
              "      <td>0</td>\n",
              "      <td>0</td>\n",
              "      <td>0</td>\n",
              "      <td>0</td>\n",
              "      <td>0</td>\n",
              "    </tr>\n",
              "    <tr>\n",
              "      <th>20</th>\n",
              "      <td>000b08c464718505</td>\n",
              "      <td>\"\\n\\n Regarding your recent edits \\n\\nOnce aga...</td>\n",
              "      <td>0</td>\n",
              "      <td>0</td>\n",
              "      <td>0</td>\n",
              "      <td>0</td>\n",
              "      <td>0</td>\n",
              "      <td>0</td>\n",
              "    </tr>\n",
              "    <tr>\n",
              "      <th>21</th>\n",
              "      <td>000bfd0867774845</td>\n",
              "      <td>\"\\nGood to know. About me, yeah, I'm studying ...</td>\n",
              "      <td>0</td>\n",
              "      <td>0</td>\n",
              "      <td>0</td>\n",
              "      <td>0</td>\n",
              "      <td>0</td>\n",
              "      <td>0</td>\n",
              "    </tr>\n",
              "    <tr>\n",
              "      <th>22</th>\n",
              "      <td>000c0dfd995809fa</td>\n",
              "      <td>\"\\n\\n Snowflakes are NOT always symmetrical! \\...</td>\n",
              "      <td>0</td>\n",
              "      <td>0</td>\n",
              "      <td>0</td>\n",
              "      <td>0</td>\n",
              "      <td>0</td>\n",
              "      <td>0</td>\n",
              "    </tr>\n",
              "    <tr>\n",
              "      <th>23</th>\n",
              "      <td>000c6a3f0cd3ba8e</td>\n",
              "      <td>\"\\n\\n The Signpost: 24 September 2012 \\n\\n Rea...</td>\n",
              "      <td>0</td>\n",
              "      <td>0</td>\n",
              "      <td>0</td>\n",
              "      <td>0</td>\n",
              "      <td>0</td>\n",
              "      <td>0</td>\n",
              "    </tr>\n",
              "    <tr>\n",
              "      <th>24</th>\n",
              "      <td>000cfee90f50d471</td>\n",
              "      <td>\"\\n\\nRe-considering 1st paragraph edit?\\nI don...</td>\n",
              "      <td>0</td>\n",
              "      <td>0</td>\n",
              "      <td>0</td>\n",
              "      <td>0</td>\n",
              "      <td>0</td>\n",
              "      <td>0</td>\n",
              "    </tr>\n",
              "    <tr>\n",
              "      <th>25</th>\n",
              "      <td>000eefc67a2c930f</td>\n",
              "      <td>Radial symmetry \\n\\nSeveral now extinct lineag...</td>\n",
              "      <td>0</td>\n",
              "      <td>0</td>\n",
              "      <td>0</td>\n",
              "      <td>0</td>\n",
              "      <td>0</td>\n",
              "      <td>0</td>\n",
              "    </tr>\n",
              "    <tr>\n",
              "      <th>26</th>\n",
              "      <td>000f35deef84dc4a</td>\n",
              "      <td>There's no need to apologize. A Wikipedia arti...</td>\n",
              "      <td>0</td>\n",
              "      <td>0</td>\n",
              "      <td>0</td>\n",
              "      <td>0</td>\n",
              "      <td>0</td>\n",
              "      <td>0</td>\n",
              "    </tr>\n",
              "    <tr>\n",
              "      <th>27</th>\n",
              "      <td>000ffab30195c5e1</td>\n",
              "      <td>Yes, because the mother of the child in the ca...</td>\n",
              "      <td>0</td>\n",
              "      <td>0</td>\n",
              "      <td>0</td>\n",
              "      <td>0</td>\n",
              "      <td>0</td>\n",
              "      <td>0</td>\n",
              "    </tr>\n",
              "    <tr>\n",
              "      <th>28</th>\n",
              "      <td>0010307a3a50a353</td>\n",
              "      <td>\"\\nOk. But it will take a bit of work but I ca...</td>\n",
              "      <td>0</td>\n",
              "      <td>0</td>\n",
              "      <td>0</td>\n",
              "      <td>0</td>\n",
              "      <td>0</td>\n",
              "      <td>0</td>\n",
              "    </tr>\n",
              "    <tr>\n",
              "      <th>29</th>\n",
              "      <td>0010833a96e1f886</td>\n",
              "      <td>\"== A barnstar for you! ==\\n\\n  The Real Life ...</td>\n",
              "      <td>0</td>\n",
              "      <td>0</td>\n",
              "      <td>0</td>\n",
              "      <td>0</td>\n",
              "      <td>0</td>\n",
              "      <td>0</td>\n",
              "    </tr>\n",
              "    <tr>\n",
              "      <th>...</th>\n",
              "      <td>...</td>\n",
              "      <td>...</td>\n",
              "      <td>...</td>\n",
              "      <td>...</td>\n",
              "      <td>...</td>\n",
              "      <td>...</td>\n",
              "      <td>...</td>\n",
              "      <td>...</td>\n",
              "    </tr>\n",
              "    <tr>\n",
              "      <th>159541</th>\n",
              "      <td>ffa33d3122b599d6</td>\n",
              "      <td>Your absurd edits \\n\\nYour absurd edits on gre...</td>\n",
              "      <td>1</td>\n",
              "      <td>0</td>\n",
              "      <td>1</td>\n",
              "      <td>0</td>\n",
              "      <td>1</td>\n",
              "      <td>0</td>\n",
              "    </tr>\n",
              "    <tr>\n",
              "      <th>159542</th>\n",
              "      <td>ffa95244f261527f</td>\n",
              "      <td>maybe he's got better things to do than spend ...</td>\n",
              "      <td>0</td>\n",
              "      <td>0</td>\n",
              "      <td>0</td>\n",
              "      <td>0</td>\n",
              "      <td>0</td>\n",
              "      <td>0</td>\n",
              "    </tr>\n",
              "    <tr>\n",
              "      <th>159543</th>\n",
              "      <td>ffad104337fe9891</td>\n",
              "      <td>scrap that, it does meet criteria and its gone...</td>\n",
              "      <td>0</td>\n",
              "      <td>0</td>\n",
              "      <td>0</td>\n",
              "      <td>0</td>\n",
              "      <td>0</td>\n",
              "      <td>0</td>\n",
              "    </tr>\n",
              "    <tr>\n",
              "      <th>159544</th>\n",
              "      <td>ffaed63c487a2b42</td>\n",
              "      <td>You could do worse.</td>\n",
              "      <td>0</td>\n",
              "      <td>0</td>\n",
              "      <td>0</td>\n",
              "      <td>0</td>\n",
              "      <td>0</td>\n",
              "      <td>0</td>\n",
              "    </tr>\n",
              "    <tr>\n",
              "      <th>159545</th>\n",
              "      <td>ffb268f37788a011</td>\n",
              "      <td>, 7 March 2011 (UTC)\\nAre you also User:Bmatts...</td>\n",
              "      <td>0</td>\n",
              "      <td>0</td>\n",
              "      <td>0</td>\n",
              "      <td>0</td>\n",
              "      <td>0</td>\n",
              "      <td>0</td>\n",
              "    </tr>\n",
              "    <tr>\n",
              "      <th>159546</th>\n",
              "      <td>ffb47123b2d82762</td>\n",
              "      <td>\"\\n\\nHey listen don't you ever!!!! Delete my e...</td>\n",
              "      <td>1</td>\n",
              "      <td>0</td>\n",
              "      <td>0</td>\n",
              "      <td>0</td>\n",
              "      <td>1</td>\n",
              "      <td>0</td>\n",
              "    </tr>\n",
              "    <tr>\n",
              "      <th>159547</th>\n",
              "      <td>ffb7b4c3d3ae5842</td>\n",
              "      <td>Thank you very, very much.  ·✆</td>\n",
              "      <td>0</td>\n",
              "      <td>0</td>\n",
              "      <td>0</td>\n",
              "      <td>0</td>\n",
              "      <td>0</td>\n",
              "      <td>0</td>\n",
              "    </tr>\n",
              "    <tr>\n",
              "      <th>159548</th>\n",
              "      <td>ffb93b0a0a1e78f9</td>\n",
              "      <td>Talkback: 15 September 2012</td>\n",
              "      <td>0</td>\n",
              "      <td>0</td>\n",
              "      <td>0</td>\n",
              "      <td>0</td>\n",
              "      <td>0</td>\n",
              "      <td>0</td>\n",
              "    </tr>\n",
              "    <tr>\n",
              "      <th>159549</th>\n",
              "      <td>ffb998f9749bd83e</td>\n",
              "      <td>2005 (UTC)\\n 06:35, 31 Mar</td>\n",
              "      <td>0</td>\n",
              "      <td>0</td>\n",
              "      <td>0</td>\n",
              "      <td>0</td>\n",
              "      <td>0</td>\n",
              "      <td>0</td>\n",
              "    </tr>\n",
              "    <tr>\n",
              "      <th>159550</th>\n",
              "      <td>ffba5332d6b8fd14</td>\n",
              "      <td>i agree/ on another note lil wayne is a talent...</td>\n",
              "      <td>0</td>\n",
              "      <td>0</td>\n",
              "      <td>0</td>\n",
              "      <td>0</td>\n",
              "      <td>0</td>\n",
              "      <td>0</td>\n",
              "    </tr>\n",
              "    <tr>\n",
              "      <th>159551</th>\n",
              "      <td>ffbc2db4225258dd</td>\n",
              "      <td>While about half the references are from BYU-I...</td>\n",
              "      <td>0</td>\n",
              "      <td>0</td>\n",
              "      <td>0</td>\n",
              "      <td>0</td>\n",
              "      <td>0</td>\n",
              "      <td>0</td>\n",
              "    </tr>\n",
              "    <tr>\n",
              "      <th>159552</th>\n",
              "      <td>ffbcd64a71775e04</td>\n",
              "      <td>Prague Spring \\n\\nI think that Prague Spring d...</td>\n",
              "      <td>0</td>\n",
              "      <td>0</td>\n",
              "      <td>0</td>\n",
              "      <td>0</td>\n",
              "      <td>0</td>\n",
              "      <td>0</td>\n",
              "    </tr>\n",
              "    <tr>\n",
              "      <th>159553</th>\n",
              "      <td>ffbd331a3aa269b9</td>\n",
              "      <td>I see this as having been merged; undoing one ...</td>\n",
              "      <td>0</td>\n",
              "      <td>0</td>\n",
              "      <td>0</td>\n",
              "      <td>0</td>\n",
              "      <td>0</td>\n",
              "      <td>0</td>\n",
              "    </tr>\n",
              "    <tr>\n",
              "      <th>159554</th>\n",
              "      <td>ffbdbb0483ed0841</td>\n",
              "      <td>and i'm going to keep posting the stuff u dele...</td>\n",
              "      <td>1</td>\n",
              "      <td>0</td>\n",
              "      <td>1</td>\n",
              "      <td>0</td>\n",
              "      <td>1</td>\n",
              "      <td>0</td>\n",
              "    </tr>\n",
              "    <tr>\n",
              "      <th>159555</th>\n",
              "      <td>ffc2f409658571f1</td>\n",
              "      <td>\"\\n\\nHow come when you download that MP3 it's ...</td>\n",
              "      <td>0</td>\n",
              "      <td>0</td>\n",
              "      <td>0</td>\n",
              "      <td>0</td>\n",
              "      <td>0</td>\n",
              "      <td>0</td>\n",
              "    </tr>\n",
              "    <tr>\n",
              "      <th>159556</th>\n",
              "      <td>ffc671f2acdd80e1</td>\n",
              "      <td>I'll be on IRC, too, if you have a more specif...</td>\n",
              "      <td>0</td>\n",
              "      <td>0</td>\n",
              "      <td>0</td>\n",
              "      <td>0</td>\n",
              "      <td>0</td>\n",
              "      <td>0</td>\n",
              "    </tr>\n",
              "    <tr>\n",
              "      <th>159557</th>\n",
              "      <td>ffc7bbb177c3c966</td>\n",
              "      <td>It is my opinion that that happens to be off-t...</td>\n",
              "      <td>0</td>\n",
              "      <td>0</td>\n",
              "      <td>0</td>\n",
              "      <td>0</td>\n",
              "      <td>0</td>\n",
              "      <td>0</td>\n",
              "    </tr>\n",
              "    <tr>\n",
              "      <th>159558</th>\n",
              "      <td>ffca1e81aefc48ac</td>\n",
              "      <td>Please stop removing content from Wikipedia; i...</td>\n",
              "      <td>0</td>\n",
              "      <td>0</td>\n",
              "      <td>0</td>\n",
              "      <td>0</td>\n",
              "      <td>0</td>\n",
              "      <td>0</td>\n",
              "    </tr>\n",
              "    <tr>\n",
              "      <th>159559</th>\n",
              "      <td>ffca8d71d71a3fae</td>\n",
              "      <td>Image:Barack-obama-mother.jpg listed for delet...</td>\n",
              "      <td>0</td>\n",
              "      <td>0</td>\n",
              "      <td>0</td>\n",
              "      <td>0</td>\n",
              "      <td>0</td>\n",
              "      <td>0</td>\n",
              "    </tr>\n",
              "    <tr>\n",
              "      <th>159560</th>\n",
              "      <td>ffcdcb71854f6d8a</td>\n",
              "      <td>\"Editing of article without Consensus &amp; Remova...</td>\n",
              "      <td>0</td>\n",
              "      <td>0</td>\n",
              "      <td>0</td>\n",
              "      <td>0</td>\n",
              "      <td>0</td>\n",
              "      <td>0</td>\n",
              "    </tr>\n",
              "    <tr>\n",
              "      <th>159561</th>\n",
              "      <td>ffd2e85b07b3c7e4</td>\n",
              "      <td>\"\\nNo he did not, read it again (I would have ...</td>\n",
              "      <td>0</td>\n",
              "      <td>0</td>\n",
              "      <td>0</td>\n",
              "      <td>0</td>\n",
              "      <td>0</td>\n",
              "      <td>0</td>\n",
              "    </tr>\n",
              "    <tr>\n",
              "      <th>159562</th>\n",
              "      <td>ffd72e9766c09c97</td>\n",
              "      <td>\"\\n Auto guides and the motoring press are not...</td>\n",
              "      <td>0</td>\n",
              "      <td>0</td>\n",
              "      <td>0</td>\n",
              "      <td>0</td>\n",
              "      <td>0</td>\n",
              "      <td>0</td>\n",
              "    </tr>\n",
              "    <tr>\n",
              "      <th>159563</th>\n",
              "      <td>ffe029a7c79dc7fe</td>\n",
              "      <td>\"\\nplease identify what part of BLP applies be...</td>\n",
              "      <td>0</td>\n",
              "      <td>0</td>\n",
              "      <td>0</td>\n",
              "      <td>0</td>\n",
              "      <td>0</td>\n",
              "      <td>0</td>\n",
              "    </tr>\n",
              "    <tr>\n",
              "      <th>159564</th>\n",
              "      <td>ffe897e7f7182c90</td>\n",
              "      <td>Catalan independentism is the social movement ...</td>\n",
              "      <td>0</td>\n",
              "      <td>0</td>\n",
              "      <td>0</td>\n",
              "      <td>0</td>\n",
              "      <td>0</td>\n",
              "      <td>0</td>\n",
              "    </tr>\n",
              "    <tr>\n",
              "      <th>159565</th>\n",
              "      <td>ffe8b9316245be30</td>\n",
              "      <td>The numbers in parentheses are the additional ...</td>\n",
              "      <td>0</td>\n",
              "      <td>0</td>\n",
              "      <td>0</td>\n",
              "      <td>0</td>\n",
              "      <td>0</td>\n",
              "      <td>0</td>\n",
              "    </tr>\n",
              "    <tr>\n",
              "      <th>159566</th>\n",
              "      <td>ffe987279560d7ff</td>\n",
              "      <td>\":::::And for the second time of asking, when ...</td>\n",
              "      <td>0</td>\n",
              "      <td>0</td>\n",
              "      <td>0</td>\n",
              "      <td>0</td>\n",
              "      <td>0</td>\n",
              "      <td>0</td>\n",
              "    </tr>\n",
              "    <tr>\n",
              "      <th>159567</th>\n",
              "      <td>ffea4adeee384e90</td>\n",
              "      <td>You should be ashamed of yourself \\n\\nThat is ...</td>\n",
              "      <td>0</td>\n",
              "      <td>0</td>\n",
              "      <td>0</td>\n",
              "      <td>0</td>\n",
              "      <td>0</td>\n",
              "      <td>0</td>\n",
              "    </tr>\n",
              "    <tr>\n",
              "      <th>159568</th>\n",
              "      <td>ffee36eab5c267c9</td>\n",
              "      <td>Spitzer \\n\\nUmm, theres no actual article for ...</td>\n",
              "      <td>0</td>\n",
              "      <td>0</td>\n",
              "      <td>0</td>\n",
              "      <td>0</td>\n",
              "      <td>0</td>\n",
              "      <td>0</td>\n",
              "    </tr>\n",
              "    <tr>\n",
              "      <th>159569</th>\n",
              "      <td>fff125370e4aaaf3</td>\n",
              "      <td>And it looks like it was actually you who put ...</td>\n",
              "      <td>0</td>\n",
              "      <td>0</td>\n",
              "      <td>0</td>\n",
              "      <td>0</td>\n",
              "      <td>0</td>\n",
              "      <td>0</td>\n",
              "    </tr>\n",
              "    <tr>\n",
              "      <th>159570</th>\n",
              "      <td>fff46fc426af1f9a</td>\n",
              "      <td>\"\\nAnd ... I really don't think you understand...</td>\n",
              "      <td>0</td>\n",
              "      <td>0</td>\n",
              "      <td>0</td>\n",
              "      <td>0</td>\n",
              "      <td>0</td>\n",
              "      <td>0</td>\n",
              "    </tr>\n",
              "  </tbody>\n",
              "</table>\n",
              "<p>159571 rows × 8 columns</p>\n",
              "</div>"
            ],
            "text/plain": [
              "                      id  ... identity_hate\n",
              "0       0000997932d777bf  ...             0\n",
              "1       000103f0d9cfb60f  ...             0\n",
              "2       000113f07ec002fd  ...             0\n",
              "3       0001b41b1c6bb37e  ...             0\n",
              "4       0001d958c54c6e35  ...             0\n",
              "5       00025465d4725e87  ...             0\n",
              "6       0002bcb3da6cb337  ...             0\n",
              "7       00031b1e95af7921  ...             0\n",
              "8       00037261f536c51d  ...             0\n",
              "9       00040093b2687caa  ...             0\n",
              "10      0005300084f90edc  ...             0\n",
              "11      00054a5e18b50dd4  ...             0\n",
              "12      0005c987bdfc9d4b  ...             0\n",
              "13      0006f16e4e9f292e  ...             0\n",
              "14      00070ef96486d6f9  ...             0\n",
              "15      00078f8ce7eb276d  ...             0\n",
              "16      0007e25b2121310b  ...             0\n",
              "17      000897889268bc93  ...             0\n",
              "18      0009801bd85e5806  ...             0\n",
              "19      0009eaea3325de8c  ...             0\n",
              "20      000b08c464718505  ...             0\n",
              "21      000bfd0867774845  ...             0\n",
              "22      000c0dfd995809fa  ...             0\n",
              "23      000c6a3f0cd3ba8e  ...             0\n",
              "24      000cfee90f50d471  ...             0\n",
              "25      000eefc67a2c930f  ...             0\n",
              "26      000f35deef84dc4a  ...             0\n",
              "27      000ffab30195c5e1  ...             0\n",
              "28      0010307a3a50a353  ...             0\n",
              "29      0010833a96e1f886  ...             0\n",
              "...                  ...  ...           ...\n",
              "159541  ffa33d3122b599d6  ...             0\n",
              "159542  ffa95244f261527f  ...             0\n",
              "159543  ffad104337fe9891  ...             0\n",
              "159544  ffaed63c487a2b42  ...             0\n",
              "159545  ffb268f37788a011  ...             0\n",
              "159546  ffb47123b2d82762  ...             0\n",
              "159547  ffb7b4c3d3ae5842  ...             0\n",
              "159548  ffb93b0a0a1e78f9  ...             0\n",
              "159549  ffb998f9749bd83e  ...             0\n",
              "159550  ffba5332d6b8fd14  ...             0\n",
              "159551  ffbc2db4225258dd  ...             0\n",
              "159552  ffbcd64a71775e04  ...             0\n",
              "159553  ffbd331a3aa269b9  ...             0\n",
              "159554  ffbdbb0483ed0841  ...             0\n",
              "159555  ffc2f409658571f1  ...             0\n",
              "159556  ffc671f2acdd80e1  ...             0\n",
              "159557  ffc7bbb177c3c966  ...             0\n",
              "159558  ffca1e81aefc48ac  ...             0\n",
              "159559  ffca8d71d71a3fae  ...             0\n",
              "159560  ffcdcb71854f6d8a  ...             0\n",
              "159561  ffd2e85b07b3c7e4  ...             0\n",
              "159562  ffd72e9766c09c97  ...             0\n",
              "159563  ffe029a7c79dc7fe  ...             0\n",
              "159564  ffe897e7f7182c90  ...             0\n",
              "159565  ffe8b9316245be30  ...             0\n",
              "159566  ffe987279560d7ff  ...             0\n",
              "159567  ffea4adeee384e90  ...             0\n",
              "159568  ffee36eab5c267c9  ...             0\n",
              "159569  fff125370e4aaaf3  ...             0\n",
              "159570  fff46fc426af1f9a  ...             0\n",
              "\n",
              "[159571 rows x 8 columns]"
            ]
          },
          "metadata": {
            "tags": []
          },
          "execution_count": 5
        }
      ]
    },
    {
      "cell_type": "markdown",
      "metadata": {
        "id": "OvFozuUeyhbj",
        "colab_type": "text"
      },
      "source": [
        "#Text Cleaning and Preprocessing"
      ]
    },
    {
      "cell_type": "code",
      "metadata": {
        "id": "y58gh8D61Pzg",
        "colab_type": "code",
        "colab": {}
      },
      "source": [
        "contractions = { \n",
        "\"ain't\": \"am not\",\n",
        "\"aren't\": \"are not\",\n",
        "\"can't\": \"cannot\",\n",
        "\"can't've\": \"cannot have\",\n",
        "\"'cause\": \"because\",\n",
        "\"could've\": \"could have\",\n",
        "\"couldn't\": \"could not\",\n",
        "\"couldn't've\": \"could not have\",\n",
        "\"didn't\": \"did not\",\n",
        "\"doesn't\": \"does not\",\n",
        "\"don't\": \"do not\",\n",
        "\"hadn't\": \"had not\",\n",
        "\"hadn't've\": \"had not have\",\n",
        "\"hasn't\": \"has not\",\n",
        "\"haven't\": \"have not\",\n",
        "\"he'd\": \"he would\",\n",
        "\"he'd've\": \"he would have\",\n",
        "\"he'll\": \"he will\",\n",
        "\"he's\": \"he is\",\n",
        "\"how'd\": \"how did\",\n",
        "\"how'll\": \"how will\",\n",
        "\"how's\": \"how is\",\n",
        "\"i'd\": \"i would\",\n",
        "\"i'll\": \"i will\",\n",
        "\"i'm\": \"i am\",\n",
        "\"i've\": \"i have\",\n",
        "\"isn't\": \"is not\",\n",
        "\"it'd\": \"it would\",\n",
        "\"it'll\": \"it will\",\n",
        "\"it's\": \"it is\",\n",
        "\"let's\": \"let us\",\n",
        "\"ma'am\": \"madam\",\n",
        "\"mayn't\": \"may not\",\n",
        "\"might've\": \"might have\",\n",
        "\"mightn't\": \"might not\",\n",
        "\"must've\": \"must have\",\n",
        "\"mustn't\": \"must not\",\n",
        "\"needn't\": \"need not\",\n",
        "\"oughtn't\": \"ought not\",\n",
        "\"shan't\": \"shall not\",\n",
        "\"sha'n't\": \"shall not\",\n",
        "\"she'd\": \"she would\",\n",
        "\"she'll\": \"she will\",\n",
        "\"she's\": \"she is\",\n",
        "\"should've\": \"should have\",\n",
        "\"shouldn't\": \"should not\",\n",
        "\"that'd\": \"that would\",\n",
        "\"that's\": \"that is\",\n",
        "\"there'd\": \"there had\",\n",
        "\"there's\": \"there is\",\n",
        "\"they'd\": \"they would\",\n",
        "\"they'll\": \"they will\",\n",
        "\"they're\": \"they are\",\n",
        "\"they've\": \"they have\",\n",
        "\"wasn't\": \"was not\",\n",
        "\"we'd\": \"we would\",\n",
        "\"we'll\": \"we will\",\n",
        "\"we're\": \"we are\",\n",
        "\"we've\": \"we have\",\n",
        "\"weren't\": \"were not\",\n",
        "\"what'll\": \"what will\",\n",
        "\"what're\": \"what are\",\n",
        "\"what's\": \"what is\",\n",
        "\"what've\": \"what have\",\n",
        "\"where'd\": \"where did\",\n",
        "\"where's\": \"where is\",\n",
        "\"who'll\": \"who will\",\n",
        "\"who's\": \"who is\",\n",
        "\"won't\": \"will not\",\n",
        "\"wouldn't\": \"would not\",\n",
        "\"you'd\": \"you would\",\n",
        "\"you'll\": \"you will\",\n",
        "\"you're\": \"you are\"\n",
        "}"
      ],
      "execution_count": 0,
      "outputs": []
    },
    {
      "cell_type": "code",
      "metadata": {
        "id": "yzmz_GoI1UbX",
        "colab_type": "code",
        "colab": {}
      },
      "source": [
        "def clean_text(text,remove_stopwords=True):\n",
        "  \n",
        "  text=text.lower()\n",
        "  if True:\n",
        "    text=text.split()\n",
        "    new_text=[]\n",
        "    for word in text:\n",
        "      if word in contractions:\n",
        "        new_text.append(contractions[word])\n",
        "      else:\n",
        "        new_text.append(word)\n",
        "    text=\" \".join(new_text)\n",
        "    text = re.sub(r'https?:\\/\\/.*[\\r\\n]*', '', text, flags=re.MULTILINE)\n",
        "    text = re.sub(r'\\<a href', ' ', text)\n",
        "    text = re.sub(r'&amp;', '', text) \n",
        "    text = re.sub(r'[_\"\\-;%()|+&=*%.,!?:#$@\\[\\]/]', ' ', text)\n",
        "    text = re.sub(r'<br />', ' ', text)\n",
        "    text = re.sub(r'\\'', ' ', text)\n",
        "    \n",
        "    if remove_stopwords:\n",
        "        text = text.split()\n",
        "        stops = set(stopwords.words(\"english\"))\n",
        "        text = [w for w in text if not w in stops]\n",
        "        text = \" \".join(text)\n",
        "  return text   "
      ],
      "execution_count": 0,
      "outputs": []
    },
    {
      "cell_type": "code",
      "metadata": {
        "id": "olGJbynV1fG8",
        "colab_type": "code",
        "outputId": "6748c3fa-0fdd-4519-bc00-293a02c617dd",
        "colab": {
          "base_uri": "https://localhost:8080/",
          "height": 67
        }
      },
      "source": [
        "import nltk\n",
        "nltk.download('stopwords')\n",
        "import re\n",
        "from nltk.corpus import stopwords\n",
        "clean_comments=[]\n",
        "for comment in train.comment_text:\n",
        "  clean_comments.append(clean_text(comment))\n",
        "print('Comments are complete')\n",
        "\n",
        "# clean_texts=[]\n",
        "# for text in data.text:\n",
        "#   clean_texts.append(clean_text(text))\n",
        "# print('Text are complete')"
      ],
      "execution_count": 0,
      "outputs": [
        {
          "output_type": "stream",
          "text": [
            "[nltk_data] Downloading package stopwords to /root/nltk_data...\n",
            "[nltk_data]   Unzipping corpora/stopwords.zip.\n",
            "Comments are complete\n"
          ],
          "name": "stdout"
        }
      ]
    },
    {
      "cell_type": "code",
      "metadata": {
        "id": "uRqzoOpZ3h3l",
        "colab_type": "code",
        "colab": {}
      },
      "source": [
        "train['comment_text']=clean_comments\n"
      ],
      "execution_count": 0,
      "outputs": []
    },
    {
      "cell_type": "code",
      "metadata": {
        "id": "NL6sqcuZS7a5",
        "colab_type": "code",
        "outputId": "7594ff15-3ea8-435c-9647-281f6ec66c2d",
        "colab": {
          "base_uri": "https://localhost:8080/",
          "height": 34
        }
      },
      "source": [
        "train.shape"
      ],
      "execution_count": 0,
      "outputs": [
        {
          "output_type": "execute_result",
          "data": {
            "text/plain": [
              "(159571, 8)"
            ]
          },
          "metadata": {
            "tags": []
          },
          "execution_count": 10
        }
      ]
    },
    {
      "cell_type": "code",
      "metadata": {
        "id": "TIfjSo-b3pSY",
        "colab_type": "code",
        "colab": {}
      },
      "source": [
        "train.drop(train[(train['insult']==0) & (train['toxic']==0) & (train['severe_toxic']==0) & (train['obscene']==0) & (train['threat']==0)& (train['insult']& (train['identity_hate']==0)==0)].index,inplace=True)\n"
      ],
      "execution_count": 0,
      "outputs": []
    },
    {
      "cell_type": "code",
      "metadata": {
        "id": "ptsEjepFTqnm",
        "colab_type": "code",
        "outputId": "49273918-3797-4638-ca7b-fcf73f099651",
        "colab": {
          "base_uri": "https://localhost:8080/",
          "height": 34
        }
      },
      "source": [
        "train.shape"
      ],
      "execution_count": 0,
      "outputs": [
        {
          "output_type": "execute_result",
          "data": {
            "text/plain": [
              "(16171, 8)"
            ]
          },
          "metadata": {
            "tags": []
          },
          "execution_count": 12
        }
      ]
    },
    {
      "cell_type": "code",
      "metadata": {
        "id": "hUdx0rqO-4ck",
        "colab_type": "code",
        "outputId": "ad16b39b-1915-4096-e8e9-fae6131be693",
        "colab": {
          "base_uri": "https://localhost:8080/",
          "height": 67
        }
      },
      "source": [
        "train.columns"
      ],
      "execution_count": 0,
      "outputs": [
        {
          "output_type": "execute_result",
          "data": {
            "text/plain": [
              "Index(['id', 'comment_text', 'toxic', 'severe_toxic', 'obscene', 'threat',\n",
              "       'insult', 'identity_hate'],\n",
              "      dtype='object')"
            ]
          },
          "metadata": {
            "tags": []
          },
          "execution_count": 13
        }
      ]
    },
    {
      "cell_type": "code",
      "metadata": {
        "id": "6us6hIF__FVR",
        "colab_type": "code",
        "colab": {}
      },
      "source": [
        "list_classes=['toxic','severe_toxic','obscene','threat','insult','identity_hate']\n",
        "y=train[list_classes].values\n",
        "list_sentence_train=train['comment_text']\n",
        "list_sentence_test=test['comment_text']\n"
      ],
      "execution_count": 0,
      "outputs": []
    },
    {
      "cell_type": "code",
      "metadata": {
        "id": "quwVM15a_hw6",
        "colab_type": "code",
        "colab": {}
      },
      "source": [
        "max_features=2000\n",
        "tokenizer=Tokenizer(num_words=max_features)\n",
        "tokenizer.fit_on_texts(list(list_sentence_train))\n",
        "list_tokenizer_train=tokenizer.texts_to_sequences(list_sentence_train)\n",
        "list_tokenizer_test=tokenizer.texts_to_sequences(list_sentence_test)\n"
      ],
      "execution_count": 0,
      "outputs": []
    },
    {
      "cell_type": "code",
      "metadata": {
        "id": "Fj-PlTIo_iMW",
        "colab_type": "code",
        "outputId": "fb1ea8f4-6e01-4cef-eea7-017d93567968",
        "colab": {
          "base_uri": "https://localhost:8080/",
          "height": 34
        }
      },
      "source": [
        "list_tokenizer_train[:1]\n"
      ],
      "execution_count": 0,
      "outputs": [
        {
          "output_type": "execute_result",
          "data": {
            "text/plain": [
              "[[122, 449, 182, 129]]"
            ]
          },
          "metadata": {
            "tags": []
          },
          "execution_count": 16
        }
      ]
    },
    {
      "cell_type": "code",
      "metadata": {
        "id": "k2TleNjbCtZ7",
        "colab_type": "code",
        "colab": {}
      },
      "source": [
        "maxlen=200\n",
        "X_t=pad_sequences(list_tokenizer_train,maxlen=maxlen)\n",
        "X_tes=pad_sequences(list_tokenizer_test,maxlen=maxlen)\n"
      ],
      "execution_count": 0,
      "outputs": []
    },
    {
      "cell_type": "code",
      "metadata": {
        "id": "p0hyF5BOJtX8",
        "colab_type": "code",
        "colab": {}
      },
      "source": [
        "total_num_words=[len(one_comment) for one_comment in list_tokenizer_train]"
      ],
      "execution_count": 0,
      "outputs": []
    },
    {
      "cell_type": "code",
      "metadata": {
        "id": "kYmCuE4WKGaD",
        "colab_type": "code",
        "outputId": "1176a50a-b4ad-4df5-fc9b-8405fa0e5022",
        "colab": {
          "base_uri": "https://localhost:8080/",
          "height": 269
        }
      },
      "source": [
        "import matplotlib.pyplot as plt\n",
        "plt.hist(total_num_words,bins=np.arange(0,450,10))\n",
        "plt.show()"
      ],
      "execution_count": 0,
      "outputs": [
        {
          "output_type": "display_data",
          "data": {
            "image/png": "[encoded data removed]",
            "text/plain": [
              "<Figure size 432x288 with 1 Axes>"
            ]
          },
          "metadata": {
            "tags": []
          }
        }
      ]
    },
    {
      "cell_type": "code",
      "metadata": {
        "id": "-knWcAFfKJ3O",
        "colab_type": "code",
        "colab": {}
      },
      "source": [
        "\n",
        "from keras.layers import Dense,LSTM,Embedding,Dropout,Activation,GlobalMaxPooling1D\n",
        "from keras.models import Sequential"
      ],
      "execution_count": 0,
      "outputs": []
    },
    {
      "cell_type": "markdown",
      "metadata": {
        "id": "FwITCWOqytGG",
        "colab_type": "text"
      },
      "source": [
        "#Loading pretrained Glove Embeddings"
      ]
    },
    {
      "cell_type": "code",
      "metadata": {
        "id": "DTUhkY0OyC8Y",
        "colab_type": "code",
        "outputId": "99eca0ba-240b-44d6-f0e0-0fe3535ed6df",
        "colab": {
          "base_uri": "https://localhost:8080/",
          "height": 34
        }
      },
      "source": [
        "from zipfile import ZipFile\n",
        "file='drive/My Drive/glove6b100dtxt.zip'\n",
        "# file='Word-Embeddding-Sentiment-Classification-master.zip'\n",
        "\n",
        "with ZipFile(file,'r')as zip:\n",
        "  zip.extractall()\n",
        "  print('Dome')"
      ],
      "execution_count": 0,
      "outputs": [
        {
          "output_type": "stream",
          "text": [
            "Dome\n"
          ],
          "name": "stdout"
        }
      ]
    },
    {
      "cell_type": "code",
      "metadata": {
        "id": "QJIg43_7yHOE",
        "colab_type": "code",
        "outputId": "6b5e7969-e6a0-443e-eb60-f96a11781aef",
        "colab": {
          "base_uri": "https://localhost:8080/",
          "height": 34
        }
      },
      "source": [
        "import os\n",
        "embeddings_index = {}\n",
        "f = open(os.path.join('', 'glove.6B.100d.txt'))\n",
        "for line in f:\n",
        "    values = line.split()\n",
        "    word = values[0]\n",
        "    coefs = np.asarray(values[1:], dtype='float32')\n",
        "    embeddings_index[word] = coefs\n",
        "f.close()\n",
        "\n",
        "print('Found %s word vectors.' % len(embeddings_index))"
      ],
      "execution_count": 0,
      "outputs": [
        {
          "output_type": "stream",
          "text": [
            "Found 400000 word vectors.\n"
          ],
          "name": "stdout"
        }
      ]
    },
    {
      "cell_type": "code",
      "metadata": {
        "id": "Iz6mHAg0yLVQ",
        "colab_type": "code",
        "outputId": "f527270c-fcf8-4d5e-a290-1257ec15b31f",
        "colab": {
          "base_uri": "https://localhost:8080/",
          "height": 70
        }
      },
      "source": [
        "from keras.layers import Embedding\n",
        "\n",
        "EMBEDDING_DIM=100\n",
        "embedding_matrix_x = np.zeros((len(tokenizer.word_index) + 1, EMBEDDING_DIM))\n",
        "for word, i in tokenizer.word_index.items():\n",
        "    embedding_vector = embeddings_index.get(word)\n",
        "    if embedding_vector is not None:\n",
        "        # words not found in embedding index will be all-zeros.\n",
        "        embedding_matrix_x[i] = embedding_vector\n",
        "        \n",
        "embedding_layer = Embedding(len(tokenizer.word_index) + 1,\n",
        "                            EMBEDDING_DIM,\n",
        "                            weights=[embedding_matrix_x],\n",
        "                            input_length=200,\n",
        "                            trainable=False)"
      ],
      "execution_count": 0,
      "outputs": [
        {
          "output_type": "stream",
          "text": [
            "WARNING:tensorflow:From /usr/local/lib/python3.6/dist-packages/keras/backend/tensorflow_backend.py:66: The name tf.get_default_graph is deprecated. Please use tf.compat.v1.get_default_graph instead.\n",
            "\n"
          ],
          "name": "stdout"
        }
      ]
    },
    {
      "cell_type": "markdown",
      "metadata": {
        "id": "EPeN-QCwy1OE",
        "colab_type": "text"
      },
      "source": [
        "#Model Building"
      ]
    },
    {
      "cell_type": "code",
      "metadata": {
        "id": "de_FjOmNLbgf",
        "colab_type": "code",
        "outputId": "fcce21b6-1678-475c-85a4-279748639f9f",
        "colab": {
          "base_uri": "https://localhost:8080/",
          "height": 171
        }
      },
      "source": [
        "embed_Size=128\n",
        "model=Sequential()\n",
        "model.add(embedding_layer)\n",
        "# model.add(Embedding(max_features,embed_Size,input_length=200))\n",
        "model.add(LSTM(60, name='lstm_layer'))\n",
        "\n",
        "model.add(Dense(6,activation='sigmoid'))\n"
      ],
      "execution_count": 0,
      "outputs": [
        {
          "output_type": "stream",
          "text": [
            "WARNING:tensorflow:From /usr/local/lib/python3.6/dist-packages/keras/backend/tensorflow_backend.py:541: The name tf.placeholder is deprecated. Please use tf.compat.v1.placeholder instead.\n",
            "\n",
            "WARNING:tensorflow:From /usr/local/lib/python3.6/dist-packages/keras/backend/tensorflow_backend.py:4432: The name tf.random_uniform is deprecated. Please use tf.random.uniform instead.\n",
            "\n",
            "WARNING:tensorflow:From /usr/local/lib/python3.6/dist-packages/keras/backend/tensorflow_backend.py:190: The name tf.get_default_session is deprecated. Please use tf.compat.v1.get_default_session instead.\n",
            "\n",
            "WARNING:tensorflow:From /usr/local/lib/python3.6/dist-packages/keras/backend/tensorflow_backend.py:197: The name tf.ConfigProto is deprecated. Please use tf.compat.v1.ConfigProto instead.\n",
            "\n"
          ],
          "name": "stdout"
        }
      ]
    },
    {
      "cell_type": "code",
      "metadata": {
        "id": "xCQEnm9QM70I",
        "colab_type": "code",
        "outputId": "a4b81bc1-7e8b-4eae-e4e3-d80c67573f25",
        "colab": {
          "base_uri": "https://localhost:8080/",
          "height": 121
        }
      },
      "source": [
        "model.compile(loss='binary_crossentropy',optimizer='adam',metrics=(['accuracy']))"
      ],
      "execution_count": 0,
      "outputs": [
        {
          "output_type": "stream",
          "text": [
            "WARNING:tensorflow:From /usr/local/lib/python3.6/dist-packages/keras/optimizers.py:793: The name tf.train.Optimizer is deprecated. Please use tf.compat.v1.train.Optimizer instead.\n",
            "\n",
            "WARNING:tensorflow:From /usr/local/lib/python3.6/dist-packages/tensorflow/python/ops/nn_impl.py:180: add_dispatch_support.<locals>.wrapper (from tensorflow.python.ops.array_ops) is deprecated and will be removed in a future version.\n",
            "Instructions for updating:\n",
            "Use tf.where in 2.0, which has the same broadcast rule as np.where\n"
          ],
          "name": "stdout"
        }
      ]
    },
    {
      "cell_type": "code",
      "metadata": {
        "id": "dTeZrskbPM29",
        "colab_type": "code",
        "colab": {}
      },
      "source": [
        "from sklearn.model_selection import train_test_split\n",
        "X_train,X_val,y_train,y_val=train_test_split(X_t,y,test_size=0.2)\n",
        "\n"
      ],
      "execution_count": 0,
      "outputs": []
    },
    {
      "cell_type": "code",
      "metadata": {
        "id": "Xp8IbHFCQBsw",
        "colab_type": "code",
        "outputId": "8b9a405a-52ed-43ec-b2a9-5f00a9fc43b4",
        "colab": {
          "base_uri": "https://localhost:8080/",
          "height": 574
        }
      },
      "source": [
        "model.fit(X_train,y_train,epochs=15,batch_size=16,validation_data=(X_val,y_val))"
      ],
      "execution_count": 0,
      "outputs": [
        {
          "output_type": "stream",
          "text": [
            "Train on 12936 samples, validate on 3235 samples\n",
            "Epoch 1/15\n",
            "12936/12936 [==============================] - 338s 26ms/step - loss: 0.2553 - acc: 0.8916 - val_loss: 0.2701 - val_acc: 0.8854\n",
            "Epoch 2/15\n",
            "12936/12936 [==============================] - 337s 26ms/step - loss: 0.2497 - acc: 0.8941 - val_loss: 0.2713 - val_acc: 0.8854\n",
            "Epoch 3/15\n",
            "12936/12936 [==============================] - 336s 26ms/step - loss: 0.2445 - acc: 0.8962 - val_loss: 0.2691 - val_acc: 0.8857\n",
            "Epoch 4/15\n",
            "12936/12936 [==============================] - 336s 26ms/step - loss: 0.2394 - acc: 0.8987 - val_loss: 0.2732 - val_acc: 0.8880\n",
            "Epoch 5/15\n",
            "12936/12936 [==============================] - 334s 26ms/step - loss: 0.2347 - acc: 0.9006 - val_loss: 0.2705 - val_acc: 0.8861\n",
            "Epoch 6/15\n",
            "12936/12936 [==============================] - 332s 26ms/step - loss: 0.2288 - acc: 0.9033 - val_loss: 0.2725 - val_acc: 0.8850\n",
            "Epoch 7/15\n",
            "12936/12936 [==============================] - 335s 26ms/step - loss: 0.2237 - acc: 0.9056 - val_loss: 0.2761 - val_acc: 0.8838\n",
            "Epoch 8/15\n",
            "12936/12936 [==============================] - 335s 26ms/step - loss: 0.2183 - acc: 0.9079 - val_loss: 0.2796 - val_acc: 0.8851\n",
            "Epoch 9/15\n",
            "12936/12936 [==============================] - 335s 26ms/step - loss: 0.2129 - acc: 0.9101 - val_loss: 0.2807 - val_acc: 0.8835\n",
            "Epoch 10/15\n",
            "12936/12936 [==============================] - 335s 26ms/step - loss: 0.2069 - acc: 0.9131 - val_loss: 0.2900 - val_acc: 0.8828\n",
            "Epoch 11/15\n",
            "12936/12936 [==============================] - 335s 26ms/step - loss: 0.2021 - acc: 0.9151 - val_loss: 0.2887 - val_acc: 0.8826\n",
            "Epoch 12/15\n",
            "12936/12936 [==============================] - 336s 26ms/step - loss: 0.1989 - acc: 0.9164 - val_loss: 0.2969 - val_acc: 0.8809\n",
            "Epoch 13/15\n",
            "12936/12936 [==============================] - 338s 26ms/step - loss: 0.1913 - acc: 0.9191 - val_loss: 0.3003 - val_acc: 0.8789\n",
            "Epoch 14/15\n",
            "12936/12936 [==============================] - 339s 26ms/step - loss: 0.1870 - acc: 0.9214 - val_loss: 0.3046 - val_acc: 0.8798\n",
            "Epoch 15/15\n",
            "12936/12936 [==============================] - 338s 26ms/step - loss: 0.1823 - acc: 0.9236 - val_loss: 0.3090 - val_acc: 0.8785\n"
          ],
          "name": "stdout"
        },
        {
          "output_type": "execute_result",
          "data": {
            "text/plain": [
              "<keras.callbacks.History at 0x7f3380346be0>"
            ]
          },
          "metadata": {
            "tags": []
          },
          "execution_count": 64
        }
      ]
    },
    {
      "cell_type": "code",
      "metadata": {
        "id": "TmKVkSCWfp99",
        "colab_type": "code",
        "colab": {}
      },
      "source": [
        "model.save_weights(\"/content/drive/My Drive/h5/model_toxic_epoch.h5\")\n"
      ],
      "execution_count": 0,
      "outputs": []
    },
    {
      "cell_type": "code",
      "metadata": {
        "id": "XaR-XSLxuJHz",
        "colab_type": "code",
        "colab": {}
      },
      "source": [
        "model.load_weights(\"/content/drive/My Drive/h5/model_toxic_epoch.h5\")"
      ],
      "execution_count": 0,
      "outputs": []
    },
    {
      "cell_type": "markdown",
      "metadata": {
        "id": "LtAoYfbNzDMY",
        "colab_type": "text"
      },
      "source": [
        "# Predicting Toxicity classes for the New User Comment"
      ]
    },
    {
      "cell_type": "code",
      "metadata": {
        "id": "7V8J5M9hdwny",
        "colab_type": "code",
        "colab": {}
      },
      "source": [
        "def predictComment(test_sample1):\n",
        "  test_samples=[test_sample1]\n",
        "  test_sample_token=tokenizer.texts_to_sequences(test_samples)\n",
        "  test_sample_tokens_pad=pad_sequences(test_sample_token,maxlen=maxlen)\n",
        "  a=model.predict([test_sample_tokens_pad])\n",
        "  \n",
        "  classes = np.array(train.columns[2:])\n",
        "\n",
        "  top_3 = np.argsort(a[0])[:-4:-1]\n",
        "\n",
        "  for i in range(3):\n",
        "      top_3 = np.argsort(a[0])[:-4:-1]\n",
        "\n",
        "      print(\"{}\".format(classes[top_3[i]])+\" ({:.3})\".format(a[0][top_3[i]]))\n",
        "      "
      ],
      "execution_count": 0,
      "outputs": []
    },
    {
      "cell_type": "code",
      "metadata": {
        "id": "vR2zlICHxDsp",
        "colab_type": "code",
        "outputId": "2117bbfe-ddbb-4fc2-b1cf-a8ad67c830be",
        "colab": {
          "base_uri": "https://localhost:8080/",
          "height": 67
        }
      },
      "source": [
        "test_sample1='I will kill you'\n",
        "\n",
        "predictComment(test_sample1)"
      ],
      "execution_count": 0,
      "outputs": [
        {
          "output_type": "stream",
          "text": [
            "toxic (0.993)\n",
            "threat (0.539)\n",
            "insult (0.144)\n"
          ],
          "name": "stdout"
        }
      ]
    },
    {
      "cell_type": "code",
      "metadata": {
        "id": "J5MRKj2-IqRJ",
        "colab_type": "code",
        "outputId": "42b963fb-38a1-48ad-f5ac-d6f3b8b5633d",
        "colab": {
          "base_uri": "https://localhost:8080/",
          "height": 67
        }
      },
      "source": [
        "test_sample1='My hatred for this movie'\n",
        "\n",
        "predictComment(test_sample1)"
      ],
      "execution_count": 0,
      "outputs": [
        {
          "output_type": "stream",
          "text": [
            "toxic (0.923)\n",
            "insult (0.0262)\n",
            "identity_hate (0.00429)\n"
          ],
          "name": "stdout"
        }
      ]
    },
    {
      "cell_type": "code",
      "metadata": {
        "id": "Kafgqpt2iW_S",
        "colab_type": "code",
        "colab": {}
      },
      "source": [
        "submission=pd.DataFrame()\n",
        "submission['id']=test['id']\n",
        "submission['toxic']=ans[:,0]\n",
        "submission['severe_toxic']=ans[:,1]\n",
        "submission['obscene']=ans[:,2]\n",
        "submission['threat']=ans[:,3]\n",
        "submission['insult']=ans[:,4]\n",
        "submission['identity_hate']=ans[:,5]\n"
      ],
      "execution_count": 0,
      "outputs": []
    },
    {
      "cell_type": "code",
      "metadata": {
        "id": "XrHnzRT4sSO0",
        "colab_type": "code",
        "outputId": "ff27dec0-c8ca-4e7f-8ff0-8a18e2e1481d",
        "colab": {
          "base_uri": "https://localhost:8080/",
          "height": 195
        }
      },
      "source": [
        "submission.head()"
      ],
      "execution_count": 0,
      "outputs": [
        {
          "output_type": "execute_result",
          "data": {
            "text/html": [
              "<div>\n",
              "<style scoped>\n",
              "    .dataframe tbody tr th:only-of-type {\n",
              "        vertical-align: middle;\n",
              "    }\n",
              "\n",
              "    .dataframe tbody tr th {\n",
              "        vertical-align: top;\n",
              "    }\n",
              "\n",
              "    .dataframe thead th {\n",
              "        text-align: right;\n",
              "    }\n",
              "</style>\n",
              "<table border=\"1\" class=\"dataframe\">\n",
              "  <thead>\n",
              "    <tr style=\"text-align: right;\">\n",
              "      <th></th>\n",
              "      <th>id</th>\n",
              "      <th>toxic</th>\n",
              "      <th>severe_toxic</th>\n",
              "      <th>obscene</th>\n",
              "      <th>threat</th>\n",
              "      <th>insult</th>\n",
              "      <th>identity_hate</th>\n",
              "    </tr>\n",
              "  </thead>\n",
              "  <tbody>\n",
              "    <tr>\n",
              "      <th>0</th>\n",
              "      <td>00001cee341fdb12</td>\n",
              "      <td>0.995363</td>\n",
              "      <td>0.234999</td>\n",
              "      <td>0.943902</td>\n",
              "      <td>0.106907</td>\n",
              "      <td>0.896926</td>\n",
              "      <td>0.358656</td>\n",
              "    </tr>\n",
              "    <tr>\n",
              "      <th>1</th>\n",
              "      <td>0000247867823ef7</td>\n",
              "      <td>0.002922</td>\n",
              "      <td>0.000021</td>\n",
              "      <td>0.000671</td>\n",
              "      <td>0.000012</td>\n",
              "      <td>0.000880</td>\n",
              "      <td>0.000102</td>\n",
              "    </tr>\n",
              "    <tr>\n",
              "      <th>2</th>\n",
              "      <td>00013b17ad220c46</td>\n",
              "      <td>0.002955</td>\n",
              "      <td>0.000035</td>\n",
              "      <td>0.000816</td>\n",
              "      <td>0.000012</td>\n",
              "      <td>0.000796</td>\n",
              "      <td>0.000123</td>\n",
              "    </tr>\n",
              "    <tr>\n",
              "      <th>3</th>\n",
              "      <td>00017563c3f7919a</td>\n",
              "      <td>0.014199</td>\n",
              "      <td>0.000050</td>\n",
              "      <td>0.001296</td>\n",
              "      <td>0.000054</td>\n",
              "      <td>0.003851</td>\n",
              "      <td>0.000180</td>\n",
              "    </tr>\n",
              "    <tr>\n",
              "      <th>4</th>\n",
              "      <td>00017695ad8997eb</td>\n",
              "      <td>0.018396</td>\n",
              "      <td>0.000285</td>\n",
              "      <td>0.003369</td>\n",
              "      <td>0.000115</td>\n",
              "      <td>0.003184</td>\n",
              "      <td>0.000627</td>\n",
              "    </tr>\n",
              "  </tbody>\n",
              "</table>\n",
              "</div>"
            ],
            "text/plain": [
              "                 id     toxic  severe_toxic  ...    threat    insult  identity_hate\n",
              "0  00001cee341fdb12  0.995363      0.234999  ...  0.106907  0.896926       0.358656\n",
              "1  0000247867823ef7  0.002922      0.000021  ...  0.000012  0.000880       0.000102\n",
              "2  00013b17ad220c46  0.002955      0.000035  ...  0.000012  0.000796       0.000123\n",
              "3  00017563c3f7919a  0.014199      0.000050  ...  0.000054  0.003851       0.000180\n",
              "4  00017695ad8997eb  0.018396      0.000285  ...  0.000115  0.003184       0.000627\n",
              "\n",
              "[5 rows x 7 columns]"
            ]
          },
          "metadata": {
            "tags": []
          },
          "execution_count": 40
        }
      ]
    },
    {
      "cell_type": "code",
      "metadata": {
        "id": "Xkg7jk57iXgH",
        "colab_type": "code",
        "colab": {}
      },
      "source": [
        "submission.to_csv('submit.csv',index=False)"
      ],
      "execution_count": 0,
      "outputs": []
    },
    {
      "cell_type": "code",
      "metadata": {
        "id": "a3wOZAg07-Jb",
        "colab_type": "code",
        "colab": {}
      },
      "source": [
        ""
      ],
      "execution_count": 0,
      "outputs": []
    },
    {
      "cell_type": "code",
      "metadata": {
        "id": "6WwqFyCzsXdg",
        "colab_type": "code",
        "colab": {}
      },
      "source": [
        ""
      ],
      "execution_count": 0,
      "outputs": []
    },
    {
      "cell_type": "code",
      "metadata": {
        "id": "Dy8g-rar6eZI",
        "colab_type": "code",
        "colab": {}
      },
      "source": [
        ""
      ],
      "execution_count": 0,
      "outputs": []
    },
    {
      "cell_type": "code",
      "metadata": {
        "id": "Efu22nwb-eW_",
        "colab_type": "code",
        "colab": {}
      },
      "source": [
        ""
      ],
      "execution_count": 0,
      "outputs": []
    },
    {
      "cell_type": "code",
      "metadata": {
        "id": "u1bvgoit8_X7",
        "colab_type": "code",
        "colab": {}
      },
      "source": [
        ""
      ],
      "execution_count": 0,
      "outputs": []
    },
    {
      "cell_type": "code",
      "metadata": {
        "id": "HpwNGGV1E8HX",
        "colab_type": "code",
        "colab": {}
      },
      "source": [
        ""
      ],
      "execution_count": 0,
      "outputs": []
    }
  ]
}